{
 "cells": [
  {
   "cell_type": "code",
   "execution_count": null,
   "id": "5b9b44d7",
   "metadata": {},
   "outputs": [
    {
     "name": "stdout",
     "output_type": "stream",
     "text": [
      "Welcome to Hangman!\n",
      "\n",
      "Word: _ _ _ _ _ _\n",
      "Attempts left: 4\n"
     ]
    }
   ],
   "source": [
    "import random\n",
    "\n",
    "word_list = [\n",
    "    \"python\", \"hangman\", \"developer\", \"programming\", \"challenge\", \"keyboard\",\n",
    "]\n",
    "\n",
    "\n",
    "def choose_word():\n",
    "    return random.choice(word_list).lower()\n",
    "\n",
    "def display_word(word, guessed_letters):\n",
    "    return \" \".join([letter if letter in guessed_letters else \"_\" for letter in word])\n",
    "\n",
    "def hangman():\n",
    "    word = choose_word()\n",
    "    guessed_letters = set()\n",
    "    attempts = 4\n",
    "    \n",
    "    print(\"Welcome to Hangman!\")\n",
    "    \n",
    "    while attempts > 0:\n",
    "        print(\"\\nWord:\", display_word(word, guessed_letters))\n",
    "        print(f\"Attempts left: {attempts}\")\n",
    "        \n",
    "        guess = input(\"Guess a letter: \").lower()\n",
    "        \n",
    "        if len(guess) != 1 or not guess.isalpha():\n",
    "            print(\"Please enter a single valid letter.\")\n",
    "            continue\n",
    "        \n",
    "        if guess in guessed_letters:\n",
    "            print(\"You already guessed that letter.\")\n",
    "            continue\n",
    "        \n",
    "        guessed_letters.add(guess)\n",
    "        \n",
    "        if guess in word:\n",
    "            print(\"\\nGood job! The letter is in the list.\")\n",
    "        else:\n",
    "            print(\"Wrong guess!\")\n",
    "            attempts -= 1\n",
    "        \n",
    "        if all(letter in guessed_letters for letter in word):\n",
    "            print(\"\\nCongratulations! You guessed the word:\", word)\n",
    "            return\n",
    "    \n",
    "    print(\"\\nGame over! The correct word was:\", word)\n",
    "\n",
    "if __name__ == \"__main__\":\n",
    "    hangman()\n"
   ]
  },
  {
   "cell_type": "code",
   "execution_count": null,
   "id": "99712196",
   "metadata": {},
   "outputs": [],
   "source": []
  }
 ],
 "metadata": {
  "kernelspec": {
   "display_name": "Python 3 (ipykernel)",
   "language": "python",
   "name": "python3"
  },
  "language_info": {
   "codemirror_mode": {
    "name": "ipython",
    "version": 3
   },
   "file_extension": ".py",
   "mimetype": "text/x-python",
   "name": "python",
   "nbconvert_exporter": "python",
   "pygments_lexer": "ipython3",
   "version": "3.9.13"
  }
 },
 "nbformat": 4,
 "nbformat_minor": 5
}
